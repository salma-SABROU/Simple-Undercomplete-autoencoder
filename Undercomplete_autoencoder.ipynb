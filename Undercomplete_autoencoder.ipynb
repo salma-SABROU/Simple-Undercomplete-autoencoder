{
  "nbformat": 4,
  "nbformat_minor": 0,
  "metadata": {
    "colab": {
      "provenance": [],
      "authorship_tag": "ABX9TyNyC2TsH+l+a6Zpk5cclAfx",
      "include_colab_link": true
    },
    "kernelspec": {
      "name": "python3",
      "display_name": "Python 3"
    },
    "language_info": {
      "name": "python"
    }
  },
  "cells": [
    {
      "cell_type": "markdown",
      "metadata": {
        "id": "view-in-github",
        "colab_type": "text"
      },
      "source": [
        "<a href=\"https://colab.research.google.com/github/salma-SABROU/Simple-Undercomplete-autoencoder/blob/main/Undercomplete_autoencoder.ipynb\" target=\"_parent\"><img src=\"https://colab.research.google.com/assets/colab-badge.svg\" alt=\"Open In Colab\"/></a>"
      ]
    },
    {
      "cell_type": "markdown",
      "source": [
        "# **Simple Undercomplete autoencoder**\n",
        "\n",
        "\n",
        "---\n",
        "\n",
        "\n",
        "\n",
        "> MNIST est une base de données très populaire dans le domaine de l'apprentissage automatique. Elle contient un grand ensemble d'images en noir et blanc de chiffres manuscrits, allant de 0 à 9. Chaque image est au format 28x28 pixels, ce qui signifie qu'elle contient 28 lignes et 28 colonnes de pixels.\n",
        "\n",
        "\n",
        "\n",
        "\n",
        "\n"
      ],
      "metadata": {
        "id": "QVAIX4goISxO"
      }
    },
    {
      "cell_type": "code",
      "source": [
        "import numpy as np\n",
        "import tensorflow  as tf\n",
        "from tensorflow.keras.datasets import mnist\n",
        "from tensorflow.keras.models import Model\n",
        "from tensorflow.keras.layers import Dense,Input\n",
        "\n",
        "(x_train,_), (x_test,_)= mnist.load_data()\n",
        "print(x_train[15][8])\n",
        "print(\"**********************************************************************************************\")\n",
        "print(x_test[15][5])"
      ],
      "metadata": {
        "colab": {
          "base_uri": "https://localhost:8080/"
        },
        "id": "VCNphASYIZ8x",
        "outputId": "04e0364a-3911-458c-8b05-2534222a1a25"
      },
      "execution_count": 34,
      "outputs": [
        {
          "output_type": "stream",
          "name": "stdout",
          "text": [
            "[  0   0   0   0   0   0   0   0   0   0   0   0  63 107 170 251 252 252\n",
            " 252 252 250 214   0   0   0   0   0   0]\n",
            "**********************************************************************************************\n",
            "[  0   0   0   0   0   0   0   0 102 142 203 203 253 252 253 252 151  70\n",
            "   0   0   0   0   0   0   0   0   0   0]\n"
          ]
        }
      ]
    },
    {
      "cell_type": "markdown",
      "source": [
        "\n",
        "\n",
        "**1.   Normalisation des données :**\n",
        "\n",
        "> Les valeurs des pixels des images sont normalisées en divisant par 255 pour les ramener dans la plage [0, 1].\n",
        "\n",
        "\n",
        "\n"
      ],
      "metadata": {
        "id": "knIAIyCUUddq"
      }
    },
    {
      "cell_type": "code",
      "source": [
        "x_train = x_train.astype('float32') / 255\n",
        "x_test = x_test.astype('float32') / 255\n",
        "\n",
        "print(x_train[15][8])\n",
        "print(\"**********************************************************************************************\")\n",
        "print(x_test[15][5])"
      ],
      "metadata": {
        "colab": {
          "base_uri": "https://localhost:8080/"
        },
        "id": "0olLiDEBNUb3",
        "outputId": "b09c4300-263f-473c-a0c5-0acacdc34cea"
      },
      "execution_count": 35,
      "outputs": [
        {
          "output_type": "stream",
          "name": "stdout",
          "text": [
            "[0.         0.         0.         0.         0.         0.\n",
            " 0.         0.         0.         0.         0.         0.\n",
            " 0.24705882 0.41960785 0.6666667  0.9843137  0.9882353  0.9882353\n",
            " 0.9882353  0.9882353  0.98039216 0.8392157  0.         0.\n",
            " 0.         0.         0.         0.        ]\n",
            "**********************************************************************************************\n",
            "[0.         0.         0.         0.         0.         0.\n",
            " 0.         0.         0.4        0.5568628  0.79607844 0.79607844\n",
            " 0.99215686 0.9882353  0.99215686 0.9882353  0.5921569  0.27450982\n",
            " 0.         0.         0.         0.         0.         0.\n",
            " 0.         0.         0.         0.        ]\n"
          ]
        }
      ]
    },
    {
      "cell_type": "markdown",
      "source": [
        "\n",
        "\n",
        "**2.   Réorganisation des données :**\n",
        "\n",
        "\n",
        "> Les données d'entraînement et de test sont remodelées pour avoir une forme de (nombre d'exemples, 784), où 784 correspond à la taille des images MNIST (28x28 pixels).\n",
        "\n",
        "\n",
        "\n"
      ],
      "metadata": {
        "id": "UoVeunfMU07F"
      }
    },
    {
      "cell_type": "code",
      "source": [
        "print(\"len(x_train) == \",len(x_train))\n",
        "print(\"x_train.shape[1:] == \",x_train.shape[1:])\n",
        "print(\"np.prod(x_train.shape[1:]) == \",np.prod(x_train.shape[1:]))\n",
        "\n",
        "dimensions_matrice = x_train.shape\n",
        "print(\"dimensions_matrice : \",dimensions_matrice)\n",
        "\n",
        "## Shape of the x_train is (60000, 784)\n",
        "x_train=x_train.reshape((len(x_train),np.prod(x_train.shape[1:])))\n",
        "## Shape of the x_test is (10000,784)\n",
        "x_test=x_test.reshape((len(x_test),np.prod(x_test.shape[1:])))\n",
        "\n",
        "dimensions_matrice = x_train.shape\n",
        "print(\"dimensions_matrice : \",dimensions_matrice)"
      ],
      "metadata": {
        "colab": {
          "base_uri": "https://localhost:8080/"
        },
        "id": "YQzmOb1_NAyP",
        "outputId": "cf879809-5dcb-49a1-a5d4-828d252e4b8a"
      },
      "execution_count": 36,
      "outputs": [
        {
          "output_type": "stream",
          "name": "stdout",
          "text": [
            "len(x_train) ==  60000\n",
            "x_train.shape[1:] ==  (28, 28)\n",
            "np.prod(x_train.shape[1:]) ==  784\n",
            "dimensions_matrice :  (60000, 28, 28)\n",
            "dimensions_matrice :  (60000, 784)\n"
          ]
        }
      ]
    },
    {
      "cell_type": "markdown",
      "source": [
        "\n",
        "\n",
        "**3.   Définition de l'architecture de l'autoencodeur :**\n",
        "\n",
        "\n",
        "\n",
        "> Ici, un modèle d'autoencodeur est créé avec trois couches. La première couche, input_l, est l'entrée, la deuxième couche, bottleneck, représente la couche cachée de l'encodeur avec 32 neurones et une fonction d'activation ReLU, et la troisième couche, output_l, est la sortie de l'autoencodeur avec une fonction d'activation sigmoid.\n",
        "\n"
      ],
      "metadata": {
        "id": "iVvKfKFoKEKj"
      }
    },
    {
      "cell_type": "code",
      "source": [
        "input_l=Input(shape=(784,))\n",
        "bottleneck=Dense(32, activation='relu')(input_l)\n",
        "output_l=Dense(784, activation='sigmoid')(bottleneck)\n"
      ],
      "metadata": {
        "id": "WnPLDGStM58n"
      },
      "execution_count": 37,
      "outputs": []
    },
    {
      "cell_type": "markdown",
      "source": [
        "\n",
        "\n",
        "**4.   Création du modèle de l'autoencodeur et des encodeur/décodeur séparés :**\n",
        "\n",
        "\n",
        "\n",
        "> Ici, trois modèles sont créés : l'autoencodeur complet, l'encodeur (qui extrait la représentation latente) et le décodeur (qui reconstruit les données).\n",
        "\n"
      ],
      "metadata": {
        "id": "vaMzMsWxWiFP"
      }
    },
    {
      "cell_type": "code",
      "source": [
        "autoencoder=Model(inputs=[input_l],outputs=[output_l])    ## Building the entire autoencoder\n",
        "\n",
        "encoder=Model(inputs=[input_l],outputs=[bottleneck])    ## Building the encoder\n",
        "encoded_input=Input(shape=(32,))\n",
        "\n",
        "decoded=autoencoder.layers[-1](encoded_input)\n",
        "decoder=Model(inputs=[encoded_input],outputs=[decoded])      ##Building the decoder\n"
      ],
      "metadata": {
        "id": "V2q-QfFWUSmb"
      },
      "execution_count": 38,
      "outputs": []
    },
    {
      "cell_type": "markdown",
      "source": [
        "\n",
        "\n",
        "**5.   Compilation de l'autoencodeur :**\n",
        "\n"
      ],
      "metadata": {
        "id": "qlp_aMWEdnt4"
      }
    },
    {
      "cell_type": "code",
      "source": [
        "autoencoder.compile(optimizer='adam', loss='binary_crossentropy')"
      ],
      "metadata": {
        "id": "ixDIea2IW3wX"
      },
      "execution_count": 39,
      "outputs": []
    },
    {
      "cell_type": "markdown",
      "source": [
        "\n",
        "\n",
        "\n",
        "**6.   Entraînement de l'autoencodeur :**\n",
        "\n",
        "\n",
        "> L'autoencodeur est entraîné sur les données d'entraînement (x_train) pour 50 époques avec un batch size de 256. Les données de test (x_test) sont utilisées pour la validation. L'objectif de l'entraînement est de minimiser la perte de reconstruction, de sorte que l'autoencodeur apprend à reconstruire les images MNIST à partir de leur représentation latente.\n",
        "\n",
        "\n",
        "\n"
      ],
      "metadata": {
        "id": "5k2y2DV2d5jk"
      }
    },
    {
      "cell_type": "code",
      "source": [
        "history = autoencoder.fit(x_train, x_train,\n",
        "                epochs=50,\n",
        "                batch_size=256,\n",
        "                shuffle=True,\n",
        "                validation_data=(x_test, x_test))"
      ],
      "metadata": {
        "colab": {
          "base_uri": "https://localhost:8080/"
        },
        "id": "DRLeCnCFd5tW",
        "outputId": "b144205a-726b-4f0f-fb04-55005b6d73a3"
      },
      "execution_count": 41,
      "outputs": [
        {
          "output_type": "stream",
          "name": "stdout",
          "text": [
            "Epoch 1/10\n",
            "235/235 [==============================] - 2s 10ms/step - loss: 0.1366 - val_loss: 0.1282\n",
            "Epoch 2/10\n",
            "235/235 [==============================] - 3s 14ms/step - loss: 0.1242 - val_loss: 0.1184\n",
            "Epoch 3/10\n",
            "235/235 [==============================] - 3s 11ms/step - loss: 0.1158 - val_loss: 0.1113\n",
            "Epoch 4/10\n",
            "235/235 [==============================] - 3s 11ms/step - loss: 0.1098 - val_loss: 0.1062\n",
            "Epoch 5/10\n",
            "235/235 [==============================] - 2s 10ms/step - loss: 0.1053 - val_loss: 0.1024\n",
            "Epoch 6/10\n",
            "235/235 [==============================] - 3s 12ms/step - loss: 0.1019 - val_loss: 0.0993\n",
            "Epoch 7/10\n",
            "235/235 [==============================] - 3s 13ms/step - loss: 0.0993 - val_loss: 0.0970\n",
            "Epoch 8/10\n",
            "235/235 [==============================] - 2s 10ms/step - loss: 0.0975 - val_loss: 0.0956\n",
            "Epoch 9/10\n",
            "235/235 [==============================] - 2s 10ms/step - loss: 0.0963 - val_loss: 0.0945\n",
            "Epoch 10/10\n",
            "235/235 [==============================] - 2s 9ms/step - loss: 0.0955 - val_loss: 0.0939\n"
          ]
        }
      ]
    },
    {
      "cell_type": "markdown",
      "source": [
        "\n",
        "\n",
        "**7.   Courbe de perte d'entraînement**\n",
        "\n"
      ],
      "metadata": {
        "id": "dmYkqo2PhsQt"
      }
    },
    {
      "cell_type": "code",
      "source": [
        "import matplotlib.pyplot as plt\n",
        "\n",
        "\n",
        "plt.plot(history.history[\"loss\"], label=\"Training Loss\")\n",
        "plt.plot(history.history[\"val_loss\"], label=\"Validation Loss\")\n",
        "plt.legend()"
      ],
      "metadata": {
        "colab": {
          "base_uri": "https://localhost:8080/",
          "height": 447
        },
        "id": "BzJbpkUUe5x2",
        "outputId": "dd42b357-7c20-4bdb-ed74-141e27660127"
      },
      "execution_count": 43,
      "outputs": [
        {
          "output_type": "execute_result",
          "data": {
            "text/plain": [
              "<matplotlib.legend.Legend at 0x7fea3d615a50>"
            ]
          },
          "metadata": {},
          "execution_count": 43
        },
        {
          "output_type": "display_data",
          "data": {
            "text/plain": [
              "<Figure size 640x480 with 1 Axes>"
            ],
            "image/png": "[encoded data removed]"
          },
          "metadata": {}
        }
      ]
    }
  ]
}